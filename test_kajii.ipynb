{
 "cells": [
  {
   "cell_type": "code",
   "execution_count": 12,
   "metadata": {},
   "outputs": [],
   "source": [
    "import os\n",
    "import re\n",
    "import janome\n",
    "from janome.tokenizer import Tokenizer\n",
    "import glob\n",
    "\n",
    "from gensim.models import word2vec"
   ]
  },
  {
   "cell_type": "code",
   "execution_count": 3,
   "metadata": {},
   "outputs": [],
   "source": [
    "os.chdir(\"aozora\\kaji_motojiro\")\n",
    "\n",
    "file = open('lemon.txt', 'r')\n",
    "string = file.read()"
   ]
  },
  {
   "cell_type": "code",
   "execution_count": 4,
   "metadata": {},
   "outputs": [],
   "source": [
    "file = open('lemon.txt', 'r')\n",
    "text = file.read()\n",
    "\n",
    "def clean_text(text):\n",
    "    text = text.replace(\"｜\",\"\")\n",
    "    text = text.replace('\\u3000','')\n",
    "    text = re.sub(\"《.+?》\",\"\",text)\n",
    "    text = re.sub(\"［.+?］\",\"\",text)\n",
    "    text = text.replace('―','')\n",
    "    text = text.replace('\\n\\n', '\\n')\n",
    "    text = text.replace('\\r', '')\n",
    "    # print(text[:100])\n",
    "    return text"
   ]
  },
  {
   "cell_type": "code",
   "execution_count": 5,
   "metadata": {},
   "outputs": [],
   "source": [
    "text = clean_text(text)"
   ]
  },
  {
   "cell_type": "code",
   "execution_count": 6,
   "metadata": {
    "scrolled": false
   },
   "outputs": [
    {
     "name": "stdout",
     "output_type": "stream",
     "text": [
      "えたい\t名詞,一般,*,*,*,*,えたい,エタイ,エタイ\n",
      "の\t助詞,格助詞,一般,*,*,*,の,ノ,ノ\n",
      "知れ\t動詞,自立,*,*,一段,未然形,知れる,シレ,シレ\n",
      "ない\t助動詞,*,*,*,特殊・ナイ,基本形,ない,ナイ,ナイ\n",
      "不吉\t名詞,形容動詞語幹,*,*,*,*,不吉,フキツ,フキツ\n",
      "な\t助動詞,*,*,*,特殊・ダ,体言接続,だ,ナ,ナ\n",
      "塊\t名詞,一般,*,*,*,*,塊,カタマリ,カタマリ\n",
      "が\t助詞,格助詞,一般,*,*,*,が,ガ,ガ\n",
      "私\t名詞,代名詞,一般,*,*,*,私,ワタシ,ワタシ\n",
      "の\t助詞,連体化,*,*,*,*,の,ノ,ノ\n"
     ]
    }
   ],
   "source": [
    "t = Tokenizer()\n",
    "tokens = t.tokenize(text)\n",
    "\n",
    "\n",
    "for token in tokens[:10]:\n",
    "    print(token)\n",
    "file.close()"
   ]
  },
  {
   "cell_type": "code",
   "execution_count": 7,
   "metadata": {},
   "outputs": [
    {
     "data": {
      "text/plain": [
       "list"
      ]
     },
     "execution_count": 7,
     "metadata": {},
     "output_type": "execute_result"
    }
   ],
   "source": [
    "type(tokens)"
   ]
  },
  {
   "cell_type": "code",
   "execution_count": 8,
   "metadata": {},
   "outputs": [
    {
     "data": {
      "text/plain": [
       "28"
      ]
     },
     "execution_count": 8,
     "metadata": {},
     "output_type": "execute_result"
    }
   ],
   "source": [
    "books = glob.glob('*.txt')\n",
    "\n",
    "books_tokens = []\n",
    "for book in books:\n",
    "    file = open(book, 'r')\n",
    "    text = file.read()\n",
    "    text = clean_text(text)\n",
    "    tokens = t.tokenize(text)\n",
    "    books_tokens.append(tokens)\n",
    "    file.close()\n",
    "len(books_tokens)"
   ]
  },
  {
   "cell_type": "code",
   "execution_count": 9,
   "metadata": {},
   "outputs": [],
   "source": [
    "for book in books:\n",
    "    file = open(book, 'r')\n",
    "    text = file.read()\n",
    "    text = clean_text(text)\n",
    "    text\n",
    "    file.close()"
   ]
  },
  {
   "cell_type": "code",
   "execution_count": 10,
   "metadata": {},
   "outputs": [
    {
     "name": "stderr",
     "output_type": "stream",
     "text": [
      "C:\\Users\\fumiaki\\Anaconda3\\envs\\tf_conda\\lib\\site-packages\\gensim\\utils.py:1197: UserWarning: detected Windows; aliasing chunkize to chunkize_serial\n",
      "  warnings.warn(\"detected Windows; aliasing chunkize to chunkize_serial\")\n"
     ]
    }
   ],
   "source": [
    "os.chdir(\"aozora\\kaji_motojiro\")\n",
    "\n",
    "file = open('lemon.txt', 'r')\n",
    "string = file.read()"
   ]
  },
  {
   "cell_type": "code",
   "execution_count": 16,
   "metadata": {},
   "outputs": [],
   "source": [
    "def extract_words(text):\n",
    "    tokens = t.tokenize(text)\n",
    "    return [token.base_form for token in tokens\n",
    "        if token.part_of_speech.split(',')[0] in['名詞', '動詞']]\n",
    "\n",
    "sentences = text.split('。')\n",
    "\n",
    "word_list =  [extract_words(s) for s in sentences]"
   ]
  },
  {
   "cell_type": "code",
   "execution_count": 17,
   "metadata": {},
   "outputs": [],
   "source": [
    "words_list = []\n",
    "for book in books:\n",
    "    file = open(book, 'r')\n",
    "    text = file.read()\n",
    "    file.close()\n",
    "    sentences = text.split('。')\n",
    "    temp = [extract_words(s) for s in sentences]\n",
    "    words_list += temp"
   ]
  },
  {
   "cell_type": "code",
   "execution_count": 18,
   "metadata": {},
   "outputs": [
    {
     "data": {
      "text/plain": [
       "[['猫', '耳', 'もの', '笑', 'おく', 'しな', 'もの'],\n",
       " ['く', '竹の子', '皮', 'よう', '表', '絨毛', 'じゅう', '生える', 'いる', '裏', 'する', 'いる'],\n",
       " ['かた', 'いる', 'よう', 'いえる', '一種', '特別', '物質'],\n",
       " ['私',\n",
       "  '子供',\n",
       "  'とき',\n",
       "  '猫',\n",
       "  '耳',\n",
       "  'いう',\n",
       "  '切符',\n",
       "  '切り',\n",
       "  'ン',\n",
       "  'やる',\n",
       "  'みる',\n",
       "  '堪る',\n",
       "  'たま',\n",
       "  'ら'],\n",
       " ['これ', '残酷', '空想'],\n",
       " ['猫', '耳', '持つ', 'いる', '一種', '不可思議', '示唆', 'する', 'さ', '力', 'の'],\n",
       " ['私',\n",
       "  '家',\n",
       "  '来る',\n",
       "  '謹厳',\n",
       "  '客',\n",
       "  '膝',\n",
       "  'あがる',\n",
       "  '来る',\n",
       "  '仔猫',\n",
       "  '耳',\n",
       "  '話',\n",
       "  'する',\n",
       "  '抓る',\n",
       "  'つね',\n",
       "  'いる',\n",
       "  '光景',\n",
       "  '忘れる',\n",
       "  'こと',\n",
       "  'できる'],\n",
       " ['よう', '疑惑', '思いの外', 'もの'],\n",
       " ['切符',\n",
       "  '切り',\n",
       "  'ン',\n",
       "  'やる',\n",
       "  'よう',\n",
       "  '児戯',\n",
       "  '類する',\n",
       "  '空想',\n",
       "  '思い切る',\n",
       "  '行為',\n",
       "  '移す',\n",
       "  '限り',\n",
       "  'われわれ',\n",
       "  'アンニュイ',\n",
       "  'なか',\n",
       "  '外観',\n",
       "  '上',\n",
       "  '年齢',\n",
       "  '遙',\n",
       "  'はる',\n",
       "  'かに',\n",
       "  '生き延びる'],\n",
       " ['分別',\n",
       "  'できる',\n",
       "  '大人',\n",
       "  '今',\n",
       "  '熱心',\n",
       "  '厚紙',\n",
       "  'サンドウィッチ',\n",
       "  'よう',\n",
       "  '挾む',\n",
       "  'うえ',\n",
       "  '一',\n",
       "  '思い',\n",
       "  '切る',\n",
       "  'みる',\n",
       "  'こと',\n",
       "  '考える',\n",
       "  'いる',\n",
       "  'の',\n",
       "  '最近',\n",
       "  'こと',\n",
       "  '空想',\n",
       "  '致命',\n",
       "  '的',\n",
       "  '誤算',\n",
       "  '曝露',\n",
       "  'ばく',\n",
       "  'ろ',\n",
       "  'する',\n",
       "  'しまう']]"
      ]
     },
     "execution_count": 18,
     "metadata": {},
     "output_type": "execute_result"
    }
   ],
   "source": [
    "words_list[:10]"
   ]
  },
  {
   "cell_type": "code",
   "execution_count": 19,
   "metadata": {},
   "outputs": [],
   "source": [
    "model = word2vec.Word2Vec(words_list, size=100, min_count=5, window=5, iter=100)"
   ]
  },
  {
   "cell_type": "code",
   "execution_count": 20,
   "metadata": {},
   "outputs": [
    {
     "name": "stdout",
     "output_type": "stream",
     "text": [
      "入る 0.4244275391101837\n",
      "障子 0.4041593670845032\n",
      "若い衆 0.38970285654067993\n",
      "しま 0.3644280433654785\n",
      "重 0.36401352286338806\n",
      "済む 0.35953351855278015\n",
      "がた 0.35944435000419617\n",
      "鳥 0.35902929306030273\n",
      "埃 0.35742026567459106\n",
      "屋 0.3412904739379883\n"
     ]
    }
   ],
   "source": [
    "ret=model.wv.most_similar(positive=['昼'],negative=['夜'])\n",
    "\n",
    "for item in ret:\n",
    "    print(item[0], item[1])"
   ]
  },
  {
   "cell_type": "code",
   "execution_count": 21,
   "metadata": {},
   "outputs": [],
   "source": [
    "import matplotlib.pyplot as plt"
   ]
  },
  {
   "cell_type": "code",
   "execution_count": 22,
   "metadata": {},
   "outputs": [
    {
     "data": {
      "text/plain": [
       "(array([4.081e+03, 7.160e+02, 7.500e+01, 9.000e+00, 7.000e+00, 1.000e+00,\n",
       "        0.000e+00, 0.000e+00, 0.000e+00, 2.000e+00]),\n",
       " array([  0. ,  15.8,  31.6,  47.4,  63.2,  79. ,  94.8, 110.6, 126.4,\n",
       "        142.2, 158. ]),\n",
       " <a list of 10 Patch objects>)"
      ]
     },
     "execution_count": 22,
     "metadata": {},
     "output_type": "execute_result"
    },
    {
     "data": {
      "image/png": "[encoded data removed]",
      "text/plain": [
       "<matplotlib.figure.Figure at 0x186fd9cd198>"
      ]
     },
     "metadata": {
      "needs_background": "light"
     },
     "output_type": "display_data"
    }
   ],
   "source": [
    "plt.hist([len(ws) for  ws in words_list] )"
   ]
  }
 ],
 "metadata": {
  "kernelspec": {
   "display_name": "Python 3",
   "language": "python",
   "name": "python3"
  },
  "language_info": {
   "codemirror_mode": {
    "name": "ipython",
    "version": 3
   },
   "file_extension": ".py",
   "mimetype": "text/x-python",
   "name": "python",
   "nbconvert_exporter": "python",
   "pygments_lexer": "ipython3",
   "version": "3.5.6"
  },
  "toc": {
   "base_numbering": 1,
   "nav_menu": {},
   "number_sections": true,
   "sideBar": true,
   "skip_h1_title": false,
   "title_cell": "Table of Contents",
   "title_sidebar": "Contents",
   "toc_cell": false,
   "toc_position": {},
   "toc_section_display": true,
   "toc_window_display": false
  }
 },
 "nbformat": 4,
 "nbformat_minor": 2
}
