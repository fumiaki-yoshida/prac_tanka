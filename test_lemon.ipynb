{
 "cells": [
  {
   "cell_type": "code",
   "execution_count": 1,
   "metadata": {},
   "outputs": [],
   "source": [
    "import os\n",
    "import re\n",
    "import janome\n",
    "from janome.tokenizer import Tokenizer"
   ]
  },
  {
   "cell_type": "code",
   "execution_count": 2,
   "metadata": {},
   "outputs": [],
   "source": [
    "os.chdir(r\"C:\\Users\\fumia\\Documents\\aozora\\kaji_motojiro\")\n",
    "\n",
    "file = open('lemon.txt', 'r')\n",
    "string = file.read()"
   ]
  },
  {
   "cell_type": "code",
   "execution_count": 11,
   "metadata": {},
   "outputs": [],
   "source": [
    "file = open('lemon.txt', 'r')\n",
    "text = file.read()\n",
    "\n",
    "\n",
    "def clean_text(text):\n",
    "    text = text.replace(\"｜\",\"\")\n",
    "    text = text.replace('\\u3000','')\n",
    "    text = re.sub(\"《.+?》\",\"\",text)\n",
    "    text = re.sub(\"［.+?］\",\"\",text)\n",
    "    text = text.replace('―','')\n",
    "    text = text.replace('\\n\\n', '\\n')\n",
    "    text = text.replace('\\r', '')\n",
    "    print(text[:100])\n",
    "    return text"
   ]
  },
  {
   "cell_type": "code",
   "execution_count": 12,
   "metadata": {},
   "outputs": [
    {
     "name": "stdout",
     "output_type": "stream",
     "text": [
      "えたいの知れない不吉な塊が私の心を始終圧えつけていた。焦躁と言おうか、嫌悪と言おうか酒を飲んだあとに宿酔があるように、酒を毎日飲んでいると宿酔に相当した時期がやって来る。それが来たのだ。これはちょっと\n"
     ]
    }
   ],
   "source": [
    "text = clean_text(text)"
   ]
  },
  {
   "cell_type": "code",
   "execution_count": 16,
   "metadata": {
    "scrolled": false
   },
   "outputs": [
    {
     "name": "stdout",
     "output_type": "stream",
     "text": [
      "えたい\t名詞,一般,*,*,*,*,えたい,エタイ,エタイ\n",
      "の\t助詞,格助詞,一般,*,*,*,の,ノ,ノ\n",
      "知れ\t動詞,自立,*,*,一段,未然形,知れる,シレ,シレ\n",
      "ない\t助動詞,*,*,*,特殊・ナイ,基本形,ない,ナイ,ナイ\n",
      "不吉\t名詞,形容動詞語幹,*,*,*,*,不吉,フキツ,フキツ\n",
      "な\t助動詞,*,*,*,特殊・ダ,体言接続,だ,ナ,ナ\n",
      "塊\t名詞,一般,*,*,*,*,塊,カタマリ,カタマリ\n",
      "が\t助詞,格助詞,一般,*,*,*,が,ガ,ガ\n",
      "私\t名詞,代名詞,一般,*,*,*,私,ワタシ,ワタシ\n",
      "の\t助詞,連体化,*,*,*,*,の,ノ,ノ\n"
     ]
    }
   ],
   "source": [
    "t = Tokenizer()\n",
    "tokens = t.tokenize(text)\n",
    "\n",
    "\n",
    "for token in tokens[:10]:\n",
    "    print(token)"
   ]
  },
  {
   "cell_type": "code",
   "execution_count": 15,
   "metadata": {},
   "outputs": [
    {
     "data": {
      "text/plain": [
       "3152"
      ]
     },
     "execution_count": 15,
     "metadata": {},
     "output_type": "execute_result"
    }
   ],
   "source": [
    "len(tokens)"
   ]
  }
 ],
 "metadata": {
  "kernelspec": {
   "display_name": "Python 3",
   "language": "python",
   "name": "python3"
  },
  "language_info": {
   "codemirror_mode": {
    "name": "ipython",
    "version": 3
   },
   "file_extension": ".py",
   "mimetype": "text/x-python",
   "name": "python",
   "nbconvert_exporter": "python",
   "pygments_lexer": "ipython3",
   "version": "3.6.7"
  }
 },
 "nbformat": 4,
 "nbformat_minor": 2
}
