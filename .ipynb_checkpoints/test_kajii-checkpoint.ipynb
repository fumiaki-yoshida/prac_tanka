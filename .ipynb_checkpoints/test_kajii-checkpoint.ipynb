{
 "cells": [
  {
   "cell_type": "code",
   "execution_count": 1,
   "metadata": {},
   "outputs": [],
   "source": [
    "import os\n",
    "import re\n",
    "import janome\n",
    "from janome.tokenizer import Tokenizer\n",
    "import glob"
   ]
  },
  {
   "cell_type": "code",
   "execution_count": 2,
   "metadata": {},
   "outputs": [],
   "source": [
    "os.chdir(\"aozora\\kaji_motojiro\")\n",
    "\n",
    "file = open('lemon.txt', 'r')\n",
    "string = file.read()"
   ]
  },
  {
   "cell_type": "code",
   "execution_count": 3,
   "metadata": {},
   "outputs": [],
   "source": [
    "file = open('lemon.txt', 'r')\n",
    "text = file.read()\n",
    "\n",
    "def clean_text(text):\n",
    "    text = text.replace(\"｜\",\"\")\n",
    "    text = text.replace('\\u3000','')\n",
    "    text = re.sub(\"《.+?》\",\"\",text)\n",
    "    text = re.sub(\"［.+?］\",\"\",text)\n",
    "    text = text.replace('―','')\n",
    "    text = text.replace('\\n\\n', '\\n')\n",
    "    text = text.replace('\\r', '')\n",
    "    # print(text[:100])\n",
    "    return text"
   ]
  },
  {
   "cell_type": "code",
   "execution_count": 4,
   "metadata": {},
   "outputs": [],
   "source": [
    "text = clean_text(text)"
   ]
  },
  {
   "cell_type": "code",
   "execution_count": 5,
   "metadata": {
    "scrolled": false
   },
   "outputs": [
    {
     "name": "stdout",
     "output_type": "stream",
     "text": [
      "えたい\t名詞,一般,*,*,*,*,えたい,エタイ,エタイ\n",
      "の\t助詞,格助詞,一般,*,*,*,の,ノ,ノ\n",
      "知れ\t動詞,自立,*,*,一段,未然形,知れる,シレ,シレ\n",
      "ない\t助動詞,*,*,*,特殊・ナイ,基本形,ない,ナイ,ナイ\n",
      "不吉\t名詞,形容動詞語幹,*,*,*,*,不吉,フキツ,フキツ\n",
      "な\t助動詞,*,*,*,特殊・ダ,体言接続,だ,ナ,ナ\n",
      "塊\t名詞,一般,*,*,*,*,塊,カタマリ,カタマリ\n",
      "が\t助詞,格助詞,一般,*,*,*,が,ガ,ガ\n",
      "私\t名詞,代名詞,一般,*,*,*,私,ワタシ,ワタシ\n",
      "の\t助詞,連体化,*,*,*,*,の,ノ,ノ\n"
     ]
    }
   ],
   "source": [
    "t = Tokenizer()\n",
    "tokens = t.tokenize(text)\n",
    "\n",
    "\n",
    "for token in tokens[:10]:\n",
    "    print(token)\n",
    "file.close()"
   ]
  },
  {
   "cell_type": "code",
   "execution_count": 6,
   "metadata": {},
   "outputs": [
    {
     "data": {
      "text/plain": [
       "list"
      ]
     },
     "execution_count": 6,
     "metadata": {},
     "output_type": "execute_result"
    }
   ],
   "source": [
    "type(tokens)"
   ]
  },
  {
   "cell_type": "code",
   "execution_count": 7,
   "metadata": {},
   "outputs": [
    {
     "data": {
      "text/plain": [
       "28"
      ]
     },
     "execution_count": 7,
     "metadata": {},
     "output_type": "execute_result"
    }
   ],
   "source": [
    "books = glob.glob('*.txt')\n",
    "\n",
    "books_tokens = []\n",
    "for book in books:\n",
    "    file = open(book, 'r')\n",
    "    text = file.read()\n",
    "    text = clean_text(text)\n",
    "    tokens = t.tokenize(text)\n",
    "    books_tokens.append(tokens)\n",
    "    file.close()\n",
    "len(books_tokens)"
   ]
  },
  {
   "cell_type": "code",
   "execution_count": null,
   "metadata": {},
   "outputs": [],
   "source": [
    "for book in books:\n",
    "    file = open(book, 'r')\n",
    "    text = file.read()\n",
    "    text = clean_text(text)\n",
    "    text\n",
    "    file.close()"
   ]
  },
  {
   "cell_type": "code",
   "execution_count": 23,
   "metadata": {},
   "outputs": [],
   "source": [
    "from gensim.models import word2vec"
   ]
  },
  {
   "cell_type": "code",
   "execution_count": 24,
   "metadata": {},
   "outputs": [],
   "source": [
    "def extract_words(text):\n",
    "    tokens = t.tokenize(text)\n",
    "    return [token.base_form for token in tokens\n",
    "        if token.part_of_speech.split(',')[0] in['名詞', '動詞']]\n",
    "\n",
    "sentences = text.split('。')\n",
    "word_list =  [extract_words(sentence) for s in sentences]"
   ]
  },
  {
   "cell_type": "code",
   "execution_count": 25,
   "metadata": {},
   "outputs": [],
   "source": [
    "model = word2vec.Word2Vec(word_list, size=100, min_count=5, window=5, iter=100)"
   ]
  },
  {
   "cell_type": "code",
   "execution_count": 28,
   "metadata": {},
   "outputs": [
    {
     "name": "stdout",
     "output_type": "stream",
     "text": [
      "いる 0.9739001989364624\n",
      "よう 0.9713070392608643\n",
      "路 0.9706640243530273\n",
      "の 0.9677562713623047\n",
      "こと 0.9621414542198181\n",
      "する 0.9614955186843872\n",
      "なか 0.960038959980011\n",
      "母 0.9556331634521484\n",
      "見える 0.9536093473434448\n",
      "人 0.9507695436477661\n"
     ]
    }
   ],
   "source": [
    "ret=model.wv.most_similar(positive=['私'])\n",
    "\n",
    "for item in ret:\n",
    "    print(item[0], item[1])"
   ]
  },
  {
   "cell_type": "code",
   "execution_count": null,
   "metadata": {},
   "outputs": [],
   "source": []
  }
 ],
 "metadata": {
  "kernelspec": {
   "display_name": "Python 3",
   "language": "python",
   "name": "python3"
  },
  "language_info": {
   "codemirror_mode": {
    "name": "ipython",
    "version": 3
   },
   "file_extension": ".py",
   "mimetype": "text/x-python",
   "name": "python",
   "nbconvert_exporter": "python",
   "pygments_lexer": "ipython3",
   "version": "3.6.7"
  }
 },
 "nbformat": 4,
 "nbformat_minor": 2
}
